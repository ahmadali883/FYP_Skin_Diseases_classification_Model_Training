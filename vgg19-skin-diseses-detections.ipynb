{
 "cells": [
  {
   "cell_type": "code",
   "execution_count": 1,
   "id": "a33730af",
   "metadata": {
    "execution": {
     "iopub.execute_input": "2025-02-18T21:55:03.546000Z",
     "iopub.status.busy": "2025-02-18T21:55:03.545782Z",
     "iopub.status.idle": "2025-02-18T21:55:08.708292Z",
     "shell.execute_reply": "2025-02-18T21:55:08.707438Z"
    },
    "papermill": {
     "duration": 5.167889,
     "end_time": "2025-02-18T21:55:08.709985",
     "exception": false,
     "start_time": "2025-02-18T21:55:03.542096",
     "status": "completed"
    },
    "tags": []
   },
   "outputs": [
    {
     "name": "stdout",
     "output_type": "stream",
     "text": [
      "Collecting tensorflow-addons==0.16.1\r\n",
      "  Downloading tensorflow_addons-0.16.1-cp310-cp310-manylinux_2_12_x86_64.manylinux2010_x86_64.whl.metadata (1.8 kB)\r\n",
      "Requirement already satisfied: typeguard>=2.7 in /usr/local/lib/python3.10/dist-packages (from tensorflow-addons==0.16.1) (4.4.1)\r\n",
      "Requirement already satisfied: typing-extensions>=4.10.0 in /usr/local/lib/python3.10/dist-packages (from typeguard>=2.7->tensorflow-addons==0.16.1) (4.12.2)\r\n",
      "Downloading tensorflow_addons-0.16.1-cp310-cp310-manylinux_2_12_x86_64.manylinux2010_x86_64.whl (1.1 MB)\r\n",
      "\u001b[2K   \u001b[90m━━━━━━━━━━━━━━━━━━━━━━━━━━━━━━━━━━━━━━━━\u001b[0m \u001b[32m1.1/1.1 MB\u001b[0m \u001b[31m17.2 MB/s\u001b[0m eta \u001b[36m0:00:00\u001b[0m\r\n",
      "\u001b[?25hInstalling collected packages: tensorflow-addons\r\n",
      "Successfully installed tensorflow-addons-0.16.1\r\n"
     ]
    }
   ],
   "source": [
    "!pip install tensorflow-addons==0.16.1\n"
   ]
  },
  {
   "cell_type": "code",
   "execution_count": 2,
   "id": "46717898",
   "metadata": {
    "execution": {
     "iopub.execute_input": "2025-02-18T21:55:08.717174Z",
     "iopub.status.busy": "2025-02-18T21:55:08.716911Z",
     "iopub.status.idle": "2025-02-18T21:55:24.594031Z",
     "shell.execute_reply": "2025-02-18T21:55:24.593266Z"
    },
    "papermill": {
     "duration": 15.88206,
     "end_time": "2025-02-18T21:55:24.595409",
     "exception": false,
     "start_time": "2025-02-18T21:55:08.713349",
     "status": "completed"
    },
    "tags": []
   },
   "outputs": [],
   "source": [
    "# Import Libraries\n",
    "import os\n",
    "import cv2\n",
    "import numpy as np\n",
    "import pandas as pd\n",
    "import matplotlib.pyplot as plt\n",
    "import seaborn as sns\n",
    "from sklearn.model_selection import train_test_split\n",
    "from sklearn.utils.class_weight import compute_class_weight\n",
    "from sklearn.metrics import classification_report, confusion_matrix\n",
    "\n",
    "import tensorflow as tf\n",
    "from tensorflow.keras.applications import VGG19\n",
    "from tensorflow.keras.models import Sequential\n",
    "from tensorflow.keras.layers import Dense, Dropout, Flatten\n",
    "from tensorflow.keras.optimizers import Adam\n",
    "from tensorflow.keras.callbacks import EarlyStopping, ReduceLROnPlateau\n",
    "from tensorflow.keras.regularizers import l2\n"
   ]
  },
  {
   "cell_type": "code",
   "execution_count": 3,
   "id": "bb821325",
   "metadata": {
    "execution": {
     "iopub.execute_input": "2025-02-18T21:55:24.602415Z",
     "iopub.status.busy": "2025-02-18T21:55:24.601966Z",
     "iopub.status.idle": "2025-02-18T21:55:24.793666Z",
     "shell.execute_reply": "2025-02-18T21:55:24.792594Z"
    },
    "papermill": {
     "duration": 0.196488,
     "end_time": "2025-02-18T21:55:24.795061",
     "exception": false,
     "start_time": "2025-02-18T21:55:24.598573",
     "status": "completed"
    },
    "tags": []
   },
   "outputs": [
    {
     "name": "stdout",
     "output_type": "stream",
     "text": [
      "Class distribution:\n",
      " target\n",
      "0    9327\n",
      "2    3812\n",
      "1    3198\n",
      "Name: count, dtype: int64\n"
     ]
    }
   ],
   "source": [
    "# Configuration\n",
    "IMG_SIZE = (180, 180)\n",
    "BATCH_SIZE = 32\n",
    "EPOCHS = 100\n",
    "SEED = 42\n",
    "CLASS_NAMES = ['Eczema', 'ACNE', 'Psoriasis']\n",
    "BASE_PATH = \"/kaggle/input/acne-psoriasis-eczema-dataset/Acne_Psoriasis_Eczema_Dataset/\"\n",
    "\n",
    "# 1. Data Preparation\n",
    "def create_dataframe():\n",
    "    data_dict = {\"image_path\": [], \"target\": []}\n",
    "    \n",
    "    class_info = [\n",
    "        (\"1. Eczema 1677\", 0),\n",
    "        (\"ACNE\", 1),\n",
    "        (\"Psoriasis\", 2)\n",
    "    ]\n",
    "    \n",
    "    for class_dir, label in class_info:\n",
    "        full_path = os.path.join(BASE_PATH, class_dir)\n",
    "        if not os.path.exists(full_path):\n",
    "            raise FileNotFoundError(f\"Directory not found: {full_path}\")\n",
    "            \n",
    "        for img_file in os.listdir(full_path):\n",
    "            if img_file.lower().endswith(('.png', '.jpg', '.jpeg')):\n",
    "                img_path = os.path.join(full_path, img_file)\n",
    "                data_dict[\"image_path\"].append(img_path)\n",
    "                data_dict[\"target\"].append(label)\n",
    "                \n",
    "    return pd.DataFrame(data_dict)\n",
    "\n",
    "df = create_dataframe()\n",
    "print(\"Class distribution:\\n\", df['target'].value_counts())"
   ]
  },
  {
   "cell_type": "code",
   "execution_count": 4,
   "id": "7f923ba2",
   "metadata": {
    "execution": {
     "iopub.execute_input": "2025-02-18T21:55:24.801780Z",
     "iopub.status.busy": "2025-02-18T21:55:24.801534Z",
     "iopub.status.idle": "2025-02-18T21:58:24.998798Z",
     "shell.execute_reply": "2025-02-18T21:58:24.997790Z"
    },
    "papermill": {
     "duration": 180.202494,
     "end_time": "2025-02-18T21:58:25.000605",
     "exception": false,
     "start_time": "2025-02-18T21:55:24.798111",
     "status": "completed"
    },
    "tags": []
   },
   "outputs": [
    {
     "name": "stdout",
     "output_type": "stream",
     "text": [
      "\n",
      "Class weights: {0: 0.5838604767520817, 1: 1.7028351052741297, 2: 1.4285589366911509}\n"
     ]
    }
   ],
   "source": [
    "\n",
    "# 2. Handle Class Imbalance\n",
    "class_weights = compute_class_weight('balanced', classes=np.unique(df['target']), y=df['target'])\n",
    "class_weights = dict(enumerate(class_weights))\n",
    "print(\"\\nClass weights:\", class_weights)\n",
    "\n",
    "# 3. Image Loading and Preprocessing\n",
    "def load_images(df):\n",
    "    images = []\n",
    "    labels = []\n",
    "    \n",
    "    for idx, row in df.iterrows():\n",
    "        try:\n",
    "            img = cv2.imread(row['image_path'])\n",
    "            if img is None:\n",
    "                raise ValueError(\"Could not read image\")\n",
    "                \n",
    "            img = cv2.cvtColor(img, cv2.COLOR_BGR2RGB)\n",
    "            img = cv2.resize(img, IMG_SIZE)\n",
    "            images.append(img)\n",
    "            labels.append(row['target'])\n",
    "        except Exception as e:\n",
    "            print(f\"Error processing {row['image_path']}: {str(e)}\")\n",
    "    \n",
    "    return np.array(images), np.array(labels)\n",
    "\n",
    "images, labels = load_images(df)\n"
   ]
  },
  {
   "cell_type": "code",
   "execution_count": 5,
   "id": "25b47068",
   "metadata": {
    "execution": {
     "iopub.execute_input": "2025-02-18T21:58:25.008014Z",
     "iopub.status.busy": "2025-02-18T21:58:25.007744Z",
     "iopub.status.idle": "2025-02-18T21:59:40.585883Z",
     "shell.execute_reply": "2025-02-18T21:59:40.584945Z"
    },
    "papermill": {
     "duration": 75.583398,
     "end_time": "2025-02-18T21:59:40.587515",
     "exception": false,
     "start_time": "2025-02-18T21:58:25.004117",
     "status": "completed"
    },
    "tags": []
   },
   "outputs": [
    {
     "name": "stdout",
     "output_type": "stream",
     "text": [
      "Downloading data from https://storage.googleapis.com/tensorflow/keras-applications/vgg19/vgg19_weights_tf_dim_ordering_tf_kernels_notop.h5\n",
      "\u001b[1m80134624/80134624\u001b[0m \u001b[32m━━━━━━━━━━━━━━━━━━━━\u001b[0m\u001b[37m\u001b[0m \u001b[1m0s\u001b[0m 0us/step\n",
      "\n",
      "Extracting training features...\n",
      "Extracting test features...\n"
     ]
    }
   ],
   "source": [
    "\n",
    "# 4. Data Splitting\n",
    "X_train, X_test, y_train, y_test = train_test_split(\n",
    "    images, \n",
    "    labels,\n",
    "    test_size=0.2,\n",
    "    stratify=labels,\n",
    "    random_state=SEED\n",
    ")\n",
    "\n",
    "# 5. Feature Extraction with VGG19\n",
    "def create_feature_extractor():\n",
    "    base_model = VGG19(\n",
    "        weights='imagenet',\n",
    "        include_top=False,\n",
    "        input_shape=(IMG_SIZE[0], IMG_SIZE[1], 3)\n",
    "    )\n",
    "    base_model.trainable = False\n",
    "    return base_model\n",
    "\n",
    "vgg_model = create_feature_extractor()\n",
    "\n",
    "def extract_features(images, model):\n",
    "    features = model.predict(images, verbose=0)\n",
    "    return features.reshape(features.shape[0], -1)\n",
    "\n",
    "print(\"\\nExtracting training features...\")\n",
    "X_train_features = extract_features(X_train, vgg_model)\n",
    "print(\"Extracting test features...\")\n",
    "X_test_features = extract_features(X_test, vgg_model)"
   ]
  },
  {
   "cell_type": "code",
   "execution_count": 6,
   "id": "be83904d",
   "metadata": {
    "execution": {
     "iopub.execute_input": "2025-02-18T21:59:40.595982Z",
     "iopub.status.busy": "2025-02-18T21:59:40.595729Z",
     "iopub.status.idle": "2025-02-18T21:59:40.648337Z",
     "shell.execute_reply": "2025-02-18T21:59:40.647513Z"
    },
    "papermill": {
     "duration": 0.0582,
     "end_time": "2025-02-18T21:59:40.649566",
     "exception": false,
     "start_time": "2025-02-18T21:59:40.591366",
     "status": "completed"
    },
    "tags": []
   },
   "outputs": [
    {
     "name": "stderr",
     "output_type": "stream",
     "text": [
      "/usr/local/lib/python3.10/dist-packages/keras/src/layers/core/dense.py:87: UserWarning: Do not pass an `input_shape`/`input_dim` argument to a layer. When using Sequential models, prefer using an `Input(shape)` object as the first layer in the model instead.\n",
      "  super().__init__(activity_regularizer=activity_regularizer, **kwargs)\n"
     ]
    },
    {
     "data": {
      "text/html": [
       "<pre style=\"white-space:pre;overflow-x:auto;line-height:normal;font-family:Menlo,'DejaVu Sans Mono',consolas,'Courier New',monospace\"><span style=\"font-weight: bold\">Model: \"sequential\"</span>\n",
       "</pre>\n"
      ],
      "text/plain": [
       "\u001b[1mModel: \"sequential\"\u001b[0m\n"
      ]
     },
     "metadata": {},
     "output_type": "display_data"
    },
    {
     "data": {
      "text/html": [
       "<pre style=\"white-space:pre;overflow-x:auto;line-height:normal;font-family:Menlo,'DejaVu Sans Mono',consolas,'Courier New',monospace\">┏━━━━━━━━━━━━━━━━━━━━━━━━━━━━━━━━━━━━━━┳━━━━━━━━━━━━━━━━━━━━━━━━━━━━━┳━━━━━━━━━━━━━━━━━┓\n",
       "┃<span style=\"font-weight: bold\"> Layer (type)                         </span>┃<span style=\"font-weight: bold\"> Output Shape                </span>┃<span style=\"font-weight: bold\">         Param # </span>┃\n",
       "┡━━━━━━━━━━━━━━━━━━━━━━━━━━━━━━━━━━━━━━╇━━━━━━━━━━━━━━━━━━━━━━━━━━━━━╇━━━━━━━━━━━━━━━━━┩\n",
       "│ dense (<span style=\"color: #0087ff; text-decoration-color: #0087ff\">Dense</span>)                        │ (<span style=\"color: #00d7ff; text-decoration-color: #00d7ff\">None</span>, <span style=\"color: #00af00; text-decoration-color: #00af00\">512</span>)                 │       <span style=\"color: #00af00; text-decoration-color: #00af00\">6,554,112</span> │\n",
       "├──────────────────────────────────────┼─────────────────────────────┼─────────────────┤\n",
       "│ dropout (<span style=\"color: #0087ff; text-decoration-color: #0087ff\">Dropout</span>)                    │ (<span style=\"color: #00d7ff; text-decoration-color: #00d7ff\">None</span>, <span style=\"color: #00af00; text-decoration-color: #00af00\">512</span>)                 │               <span style=\"color: #00af00; text-decoration-color: #00af00\">0</span> │\n",
       "├──────────────────────────────────────┼─────────────────────────────┼─────────────────┤\n",
       "│ dense_1 (<span style=\"color: #0087ff; text-decoration-color: #0087ff\">Dense</span>)                      │ (<span style=\"color: #00d7ff; text-decoration-color: #00d7ff\">None</span>, <span style=\"color: #00af00; text-decoration-color: #00af00\">256</span>)                 │         <span style=\"color: #00af00; text-decoration-color: #00af00\">131,328</span> │\n",
       "├──────────────────────────────────────┼─────────────────────────────┼─────────────────┤\n",
       "│ dropout_1 (<span style=\"color: #0087ff; text-decoration-color: #0087ff\">Dropout</span>)                  │ (<span style=\"color: #00d7ff; text-decoration-color: #00d7ff\">None</span>, <span style=\"color: #00af00; text-decoration-color: #00af00\">256</span>)                 │               <span style=\"color: #00af00; text-decoration-color: #00af00\">0</span> │\n",
       "├──────────────────────────────────────┼─────────────────────────────┼─────────────────┤\n",
       "│ dense_2 (<span style=\"color: #0087ff; text-decoration-color: #0087ff\">Dense</span>)                      │ (<span style=\"color: #00d7ff; text-decoration-color: #00d7ff\">None</span>, <span style=\"color: #00af00; text-decoration-color: #00af00\">3</span>)                   │             <span style=\"color: #00af00; text-decoration-color: #00af00\">771</span> │\n",
       "└──────────────────────────────────────┴─────────────────────────────┴─────────────────┘\n",
       "</pre>\n"
      ],
      "text/plain": [
       "┏━━━━━━━━━━━━━━━━━━━━━━━━━━━━━━━━━━━━━━┳━━━━━━━━━━━━━━━━━━━━━━━━━━━━━┳━━━━━━━━━━━━━━━━━┓\n",
       "┃\u001b[1m \u001b[0m\u001b[1mLayer (type)                        \u001b[0m\u001b[1m \u001b[0m┃\u001b[1m \u001b[0m\u001b[1mOutput Shape               \u001b[0m\u001b[1m \u001b[0m┃\u001b[1m \u001b[0m\u001b[1m        Param #\u001b[0m\u001b[1m \u001b[0m┃\n",
       "┡━━━━━━━━━━━━━━━━━━━━━━━━━━━━━━━━━━━━━━╇━━━━━━━━━━━━━━━━━━━━━━━━━━━━━╇━━━━━━━━━━━━━━━━━┩\n",
       "│ dense (\u001b[38;5;33mDense\u001b[0m)                        │ (\u001b[38;5;45mNone\u001b[0m, \u001b[38;5;34m512\u001b[0m)                 │       \u001b[38;5;34m6,554,112\u001b[0m │\n",
       "├──────────────────────────────────────┼─────────────────────────────┼─────────────────┤\n",
       "│ dropout (\u001b[38;5;33mDropout\u001b[0m)                    │ (\u001b[38;5;45mNone\u001b[0m, \u001b[38;5;34m512\u001b[0m)                 │               \u001b[38;5;34m0\u001b[0m │\n",
       "├──────────────────────────────────────┼─────────────────────────────┼─────────────────┤\n",
       "│ dense_1 (\u001b[38;5;33mDense\u001b[0m)                      │ (\u001b[38;5;45mNone\u001b[0m, \u001b[38;5;34m256\u001b[0m)                 │         \u001b[38;5;34m131,328\u001b[0m │\n",
       "├──────────────────────────────────────┼─────────────────────────────┼─────────────────┤\n",
       "│ dropout_1 (\u001b[38;5;33mDropout\u001b[0m)                  │ (\u001b[38;5;45mNone\u001b[0m, \u001b[38;5;34m256\u001b[0m)                 │               \u001b[38;5;34m0\u001b[0m │\n",
       "├──────────────────────────────────────┼─────────────────────────────┼─────────────────┤\n",
       "│ dense_2 (\u001b[38;5;33mDense\u001b[0m)                      │ (\u001b[38;5;45mNone\u001b[0m, \u001b[38;5;34m3\u001b[0m)                   │             \u001b[38;5;34m771\u001b[0m │\n",
       "└──────────────────────────────────────┴─────────────────────────────┴─────────────────┘\n"
      ]
     },
     "metadata": {},
     "output_type": "display_data"
    },
    {
     "data": {
      "text/html": [
       "<pre style=\"white-space:pre;overflow-x:auto;line-height:normal;font-family:Menlo,'DejaVu Sans Mono',consolas,'Courier New',monospace\"><span style=\"font-weight: bold\"> Total params: </span><span style=\"color: #00af00; text-decoration-color: #00af00\">6,686,211</span> (25.51 MB)\n",
       "</pre>\n"
      ],
      "text/plain": [
       "\u001b[1m Total params: \u001b[0m\u001b[38;5;34m6,686,211\u001b[0m (25.51 MB)\n"
      ]
     },
     "metadata": {},
     "output_type": "display_data"
    },
    {
     "data": {
      "text/html": [
       "<pre style=\"white-space:pre;overflow-x:auto;line-height:normal;font-family:Menlo,'DejaVu Sans Mono',consolas,'Courier New',monospace\"><span style=\"font-weight: bold\"> Trainable params: </span><span style=\"color: #00af00; text-decoration-color: #00af00\">6,686,211</span> (25.51 MB)\n",
       "</pre>\n"
      ],
      "text/plain": [
       "\u001b[1m Trainable params: \u001b[0m\u001b[38;5;34m6,686,211\u001b[0m (25.51 MB)\n"
      ]
     },
     "metadata": {},
     "output_type": "display_data"
    },
    {
     "data": {
      "text/html": [
       "<pre style=\"white-space:pre;overflow-x:auto;line-height:normal;font-family:Menlo,'DejaVu Sans Mono',consolas,'Courier New',monospace\"><span style=\"font-weight: bold\"> Non-trainable params: </span><span style=\"color: #00af00; text-decoration-color: #00af00\">0</span> (0.00 B)\n",
       "</pre>\n"
      ],
      "text/plain": [
       "\u001b[1m Non-trainable params: \u001b[0m\u001b[38;5;34m0\u001b[0m (0.00 B)\n"
      ]
     },
     "metadata": {},
     "output_type": "display_data"
    }
   ],
   "source": [
    "\n",
    "# 6. Simplified Model Architecture\n",
    "def build_model(input_shape):\n",
    "    model = Sequential([\n",
    "        Dense(512, activation='relu', \n",
    "              input_shape=input_shape,\n",
    "              kernel_regularizer=l2(0.01)),\n",
    "        Dropout(0.5),\n",
    "        Dense(256, activation='relu',\n",
    "              kernel_regularizer=l2(0.01)),\n",
    "        Dropout(0.3),\n",
    "        Dense(3, activation='softmax')\n",
    "    ])\n",
    "    \n",
    "    model.compile(\n",
    "        optimizer=Adam(learning_rate=1e-4),\n",
    "        loss='sparse_categorical_crossentropy',\n",
    "        metrics=['accuracy']\n",
    "    )\n",
    "    return model\n",
    "\n",
    "model = build_model((X_train_features.shape[1],))\n",
    "model.summary()\n"
   ]
  },
  {
   "cell_type": "code",
   "execution_count": 7,
   "id": "e2b607f2",
   "metadata": {
    "execution": {
     "iopub.execute_input": "2025-02-18T21:59:40.658310Z",
     "iopub.status.busy": "2025-02-18T21:59:40.658093Z",
     "iopub.status.idle": "2025-02-18T22:01:00.955639Z",
     "shell.execute_reply": "2025-02-18T22:01:00.954767Z"
    },
    "papermill": {
     "duration": 80.303334,
     "end_time": "2025-02-18T22:01:00.956975",
     "exception": false,
     "start_time": "2025-02-18T21:59:40.653641",
     "status": "completed"
    },
    "tags": []
   },
   "outputs": [
    {
     "name": "stdout",
     "output_type": "stream",
     "text": [
      "Epoch 1/100\n",
      "\u001b[1m409/409\u001b[0m \u001b[32m━━━━━━━━━━━━━━━━━━━━\u001b[0m\u001b[37m\u001b[0m \u001b[1m8s\u001b[0m 12ms/step - accuracy: 0.5045 - loss: 17.3463 - val_accuracy: 0.5939 - val_loss: 12.6243 - learning_rate: 1.0000e-04\n",
      "Epoch 2/100\n",
      "\u001b[1m409/409\u001b[0m \u001b[32m━━━━━━━━━━━━━━━━━━━━\u001b[0m\u001b[37m\u001b[0m \u001b[1m2s\u001b[0m 4ms/step - accuracy: 0.6002 - loss: 12.5377 - val_accuracy: 0.6252 - val_loss: 11.3762 - learning_rate: 1.0000e-04\n",
      "Epoch 3/100\n",
      "\u001b[1m409/409\u001b[0m \u001b[32m━━━━━━━━━━━━━━━━━━━━\u001b[0m\u001b[37m\u001b[0m \u001b[1m2s\u001b[0m 4ms/step - accuracy: 0.6343 - loss: 11.1189 - val_accuracy: 0.6735 - val_loss: 10.2304 - learning_rate: 1.0000e-04\n",
      "Epoch 4/100\n",
      "\u001b[1m409/409\u001b[0m \u001b[32m━━━━━━━━━━━━━━━━━━━━\u001b[0m\u001b[37m\u001b[0m \u001b[1m1s\u001b[0m 4ms/step - accuracy: 0.6681 - loss: 9.9265 - val_accuracy: 0.7056 - val_loss: 9.1017 - learning_rate: 1.0000e-04\n",
      "Epoch 5/100\n",
      "\u001b[1m409/409\u001b[0m \u001b[32m━━━━━━━━━━━━━━━━━━━━\u001b[0m\u001b[37m\u001b[0m \u001b[1m2s\u001b[0m 4ms/step - accuracy: 0.6976 - loss: 8.7739 - val_accuracy: 0.6986 - val_loss: 8.0797 - learning_rate: 1.0000e-04\n",
      "Epoch 6/100\n",
      "\u001b[1m409/409\u001b[0m \u001b[32m━━━━━━━━━━━━━━━━━━━━\u001b[0m\u001b[37m\u001b[0m \u001b[1m1s\u001b[0m 4ms/step - accuracy: 0.7161 - loss: 7.7102 - val_accuracy: 0.7084 - val_loss: 7.0743 - learning_rate: 1.0000e-04\n",
      "Epoch 7/100\n",
      "\u001b[1m409/409\u001b[0m \u001b[32m━━━━━━━━━━━━━━━━━━━━\u001b[0m\u001b[37m\u001b[0m \u001b[1m1s\u001b[0m 4ms/step - accuracy: 0.7233 - loss: 6.7189 - val_accuracy: 0.7313 - val_loss: 6.1230 - learning_rate: 1.0000e-04\n",
      "Epoch 8/100\n",
      "\u001b[1m409/409\u001b[0m \u001b[32m━━━━━━━━━━━━━━━━━━━━\u001b[0m\u001b[37m\u001b[0m \u001b[1m1s\u001b[0m 4ms/step - accuracy: 0.7346 - loss: 5.8029 - val_accuracy: 0.7439 - val_loss: 5.2932 - learning_rate: 1.0000e-04\n",
      "Epoch 9/100\n",
      "\u001b[1m409/409\u001b[0m \u001b[32m━━━━━━━━━━━━━━━━━━━━\u001b[0m\u001b[37m\u001b[0m \u001b[1m1s\u001b[0m 4ms/step - accuracy: 0.7492 - loss: 4.9793 - val_accuracy: 0.7335 - val_loss: 4.5925 - learning_rate: 1.0000e-04\n",
      "Epoch 10/100\n",
      "\u001b[1m409/409\u001b[0m \u001b[32m━━━━━━━━━━━━━━━━━━━━\u001b[0m\u001b[37m\u001b[0m \u001b[1m1s\u001b[0m 4ms/step - accuracy: 0.7594 - loss: 4.2407 - val_accuracy: 0.7411 - val_loss: 3.9515 - learning_rate: 1.0000e-04\n",
      "Epoch 11/100\n",
      "\u001b[1m409/409\u001b[0m \u001b[32m━━━━━━━━━━━━━━━━━━━━\u001b[0m\u001b[37m\u001b[0m \u001b[1m1s\u001b[0m 4ms/step - accuracy: 0.7640 - loss: 3.6186 - val_accuracy: 0.7595 - val_loss: 3.3368 - learning_rate: 1.0000e-04\n",
      "Epoch 12/100\n",
      "\u001b[1m409/409\u001b[0m \u001b[32m━━━━━━━━━━━━━━━━━━━━\u001b[0m\u001b[37m\u001b[0m \u001b[1m1s\u001b[0m 4ms/step - accuracy: 0.7810 - loss: 3.0635 - val_accuracy: 0.7543 - val_loss: 2.8536 - learning_rate: 1.0000e-04\n",
      "Epoch 13/100\n",
      "\u001b[1m409/409\u001b[0m \u001b[32m━━━━━━━━━━━━━━━━━━━━\u001b[0m\u001b[37m\u001b[0m \u001b[1m1s\u001b[0m 4ms/step - accuracy: 0.7860 - loss: 2.5971 - val_accuracy: 0.7671 - val_loss: 2.4492 - learning_rate: 1.0000e-04\n",
      "Epoch 14/100\n",
      "\u001b[1m409/409\u001b[0m \u001b[32m━━━━━━━━━━━━━━━━━━━━\u001b[0m\u001b[37m\u001b[0m \u001b[1m1s\u001b[0m 4ms/step - accuracy: 0.7857 - loss: 2.2257 - val_accuracy: 0.7653 - val_loss: 2.1473 - learning_rate: 1.0000e-04\n",
      "Epoch 15/100\n",
      "\u001b[1m409/409\u001b[0m \u001b[32m━━━━━━━━━━━━━━━━━━━━\u001b[0m\u001b[37m\u001b[0m \u001b[1m1s\u001b[0m 4ms/step - accuracy: 0.7981 - loss: 1.8918 - val_accuracy: 0.7622 - val_loss: 1.9020 - learning_rate: 1.0000e-04\n",
      "Epoch 16/100\n",
      "\u001b[1m409/409\u001b[0m \u001b[32m━━━━━━━━━━━━━━━━━━━━\u001b[0m\u001b[37m\u001b[0m \u001b[1m1s\u001b[0m 4ms/step - accuracy: 0.8013 - loss: 1.6331 - val_accuracy: 0.7772 - val_loss: 1.6736 - learning_rate: 1.0000e-04\n",
      "Epoch 17/100\n",
      "\u001b[1m409/409\u001b[0m \u001b[32m━━━━━━━━━━━━━━━━━━━━\u001b[0m\u001b[37m\u001b[0m \u001b[1m2s\u001b[0m 4ms/step - accuracy: 0.8135 - loss: 1.4347 - val_accuracy: 0.7604 - val_loss: 1.5452 - learning_rate: 1.0000e-04\n",
      "Epoch 18/100\n",
      "\u001b[1m409/409\u001b[0m \u001b[32m━━━━━━━━━━━━━━━━━━━━\u001b[0m\u001b[37m\u001b[0m \u001b[1m1s\u001b[0m 4ms/step - accuracy: 0.8156 - loss: 1.2707 - val_accuracy: 0.7607 - val_loss: 1.4262 - learning_rate: 1.0000e-04\n",
      "Epoch 19/100\n",
      "\u001b[1m409/409\u001b[0m \u001b[32m━━━━━━━━━━━━━━━━━━━━\u001b[0m\u001b[37m\u001b[0m \u001b[1m2s\u001b[0m 4ms/step - accuracy: 0.8175 - loss: 1.1527 - val_accuracy: 0.7754 - val_loss: 1.2858 - learning_rate: 1.0000e-04\n",
      "Epoch 20/100\n",
      "\u001b[1m409/409\u001b[0m \u001b[32m━━━━━━━━━━━━━━━━━━━━\u001b[0m\u001b[37m\u001b[0m \u001b[1m2s\u001b[0m 4ms/step - accuracy: 0.8278 - loss: 1.0360 - val_accuracy: 0.7647 - val_loss: 1.2766 - learning_rate: 1.0000e-04\n",
      "Epoch 21/100\n",
      "\u001b[1m409/409\u001b[0m \u001b[32m━━━━━━━━━━━━━━━━━━━━\u001b[0m\u001b[37m\u001b[0m \u001b[1m2s\u001b[0m 4ms/step - accuracy: 0.8297 - loss: 0.9627 - val_accuracy: 0.7922 - val_loss: 1.1249 - learning_rate: 1.0000e-04\n",
      "Epoch 22/100\n",
      "\u001b[1m409/409\u001b[0m \u001b[32m━━━━━━━━━━━━━━━━━━━━\u001b[0m\u001b[37m\u001b[0m \u001b[1m1s\u001b[0m 4ms/step - accuracy: 0.8277 - loss: 0.8925 - val_accuracy: 0.7931 - val_loss: 1.0540 - learning_rate: 1.0000e-04\n",
      "Epoch 23/100\n",
      "\u001b[1m409/409\u001b[0m \u001b[32m━━━━━━━━━━━━━━━━━━━━\u001b[0m\u001b[37m\u001b[0m \u001b[1m1s\u001b[0m 4ms/step - accuracy: 0.8252 - loss: 0.8343 - val_accuracy: 0.7742 - val_loss: 1.0462 - learning_rate: 1.0000e-04\n",
      "Epoch 24/100\n",
      "\u001b[1m409/409\u001b[0m \u001b[32m━━━━━━━━━━━━━━━━━━━━\u001b[0m\u001b[37m\u001b[0m \u001b[1m1s\u001b[0m 4ms/step - accuracy: 0.8258 - loss: 0.8048 - val_accuracy: 0.7944 - val_loss: 0.9792 - learning_rate: 1.0000e-04\n",
      "Epoch 25/100\n",
      "\u001b[1m409/409\u001b[0m \u001b[32m━━━━━━━━━━━━━━━━━━━━\u001b[0m\u001b[37m\u001b[0m \u001b[1m2s\u001b[0m 4ms/step - accuracy: 0.8385 - loss: 0.7532 - val_accuracy: 0.7996 - val_loss: 0.9325 - learning_rate: 1.0000e-04\n",
      "Epoch 26/100\n",
      "\u001b[1m409/409\u001b[0m \u001b[32m━━━━━━━━━━━━━━━━━━━━\u001b[0m\u001b[37m\u001b[0m \u001b[1m1s\u001b[0m 4ms/step - accuracy: 0.8403 - loss: 0.7051 - val_accuracy: 0.7947 - val_loss: 0.8969 - learning_rate: 1.0000e-04\n",
      "Epoch 27/100\n",
      "\u001b[1m409/409\u001b[0m \u001b[32m━━━━━━━━━━━━━━━━━━━━\u001b[0m\u001b[37m\u001b[0m \u001b[1m1s\u001b[0m 4ms/step - accuracy: 0.8427 - loss: 0.6769 - val_accuracy: 0.8008 - val_loss: 0.8799 - learning_rate: 1.0000e-04\n",
      "Epoch 28/100\n",
      "\u001b[1m409/409\u001b[0m \u001b[32m━━━━━━━━━━━━━━━━━━━━\u001b[0m\u001b[37m\u001b[0m \u001b[1m1s\u001b[0m 4ms/step - accuracy: 0.8418 - loss: 0.6539 - val_accuracy: 0.7858 - val_loss: 0.8802 - learning_rate: 1.0000e-04\n",
      "Epoch 29/100\n",
      "\u001b[1m409/409\u001b[0m \u001b[32m━━━━━━━━━━━━━━━━━━━━\u001b[0m\u001b[37m\u001b[0m \u001b[1m1s\u001b[0m 4ms/step - accuracy: 0.8399 - loss: 0.6364 - val_accuracy: 0.7916 - val_loss: 0.8467 - learning_rate: 1.0000e-04\n",
      "Epoch 30/100\n",
      "\u001b[1m409/409\u001b[0m \u001b[32m━━━━━━━━━━━━━━━━━━━━\u001b[0m\u001b[37m\u001b[0m \u001b[1m2s\u001b[0m 4ms/step - accuracy: 0.8462 - loss: 0.5985 - val_accuracy: 0.7938 - val_loss: 0.8412 - learning_rate: 1.0000e-04\n",
      "Epoch 31/100\n",
      "\u001b[1m409/409\u001b[0m \u001b[32m━━━━━━━━━━━━━━━━━━━━\u001b[0m\u001b[37m\u001b[0m \u001b[1m2s\u001b[0m 4ms/step - accuracy: 0.8448 - loss: 0.5864 - val_accuracy: 0.7941 - val_loss: 0.8142 - learning_rate: 1.0000e-04\n",
      "Epoch 32/100\n",
      "\u001b[1m409/409\u001b[0m \u001b[32m━━━━━━━━━━━━━━━━━━━━\u001b[0m\u001b[37m\u001b[0m \u001b[1m2s\u001b[0m 4ms/step - accuracy: 0.8402 - loss: 0.5735 - val_accuracy: 0.7959 - val_loss: 0.7954 - learning_rate: 1.0000e-04\n",
      "Epoch 33/100\n",
      "\u001b[1m409/409\u001b[0m \u001b[32m━━━━━━━━━━━━━━━━━━━━\u001b[0m\u001b[37m\u001b[0m \u001b[1m1s\u001b[0m 4ms/step - accuracy: 0.8416 - loss: 0.5712 - val_accuracy: 0.7803 - val_loss: 0.8160 - learning_rate: 1.0000e-04\n",
      "Epoch 34/100\n",
      "\u001b[1m409/409\u001b[0m \u001b[32m━━━━━━━━━━━━━━━━━━━━\u001b[0m\u001b[37m\u001b[0m \u001b[1m1s\u001b[0m 4ms/step - accuracy: 0.8482 - loss: 0.5648 - val_accuracy: 0.8084 - val_loss: 0.7716 - learning_rate: 1.0000e-04\n",
      "Epoch 35/100\n",
      "\u001b[1m409/409\u001b[0m \u001b[32m━━━━━━━━━━━━━━━━━━━━\u001b[0m\u001b[37m\u001b[0m \u001b[1m1s\u001b[0m 4ms/step - accuracy: 0.8465 - loss: 0.5451 - val_accuracy: 0.7785 - val_loss: 0.7809 - learning_rate: 1.0000e-04\n",
      "Epoch 36/100\n",
      "\u001b[1m409/409\u001b[0m \u001b[32m━━━━━━━━━━━━━━━━━━━━\u001b[0m\u001b[37m\u001b[0m \u001b[1m1s\u001b[0m 4ms/step - accuracy: 0.8463 - loss: 0.5188 - val_accuracy: 0.7913 - val_loss: 0.7677 - learning_rate: 1.0000e-04\n",
      "Epoch 37/100\n",
      "\u001b[1m409/409\u001b[0m \u001b[32m━━━━━━━━━━━━━━━━━━━━\u001b[0m\u001b[37m\u001b[0m \u001b[1m1s\u001b[0m 4ms/step - accuracy: 0.8422 - loss: 0.5435 - val_accuracy: 0.8026 - val_loss: 0.7748 - learning_rate: 1.0000e-04\n",
      "Epoch 38/100\n",
      "\u001b[1m409/409\u001b[0m \u001b[32m━━━━━━━━━━━━━━━━━━━━\u001b[0m\u001b[37m\u001b[0m \u001b[1m2s\u001b[0m 4ms/step - accuracy: 0.8534 - loss: 0.5186 - val_accuracy: 0.7916 - val_loss: 0.7771 - learning_rate: 1.0000e-04\n",
      "Epoch 39/100\n",
      "\u001b[1m409/409\u001b[0m \u001b[32m━━━━━━━━━━━━━━━━━━━━\u001b[0m\u001b[37m\u001b[0m \u001b[1m1s\u001b[0m 4ms/step - accuracy: 0.8488 - loss: 0.5226 - val_accuracy: 0.8002 - val_loss: 0.7744 - learning_rate: 1.0000e-04\n",
      "Epoch 40/100\n",
      "\u001b[1m409/409\u001b[0m \u001b[32m━━━━━━━━━━━━━━━━━━━━\u001b[0m\u001b[37m\u001b[0m \u001b[1m1s\u001b[0m 4ms/step - accuracy: 0.8473 - loss: 0.5097 - val_accuracy: 0.8051 - val_loss: 0.7626 - learning_rate: 1.0000e-04\n",
      "Epoch 41/100\n",
      "\u001b[1m409/409\u001b[0m \u001b[32m━━━━━━━━━━━━━━━━━━━━\u001b[0m\u001b[37m\u001b[0m \u001b[1m2s\u001b[0m 4ms/step - accuracy: 0.8519 - loss: 0.5057 - val_accuracy: 0.8017 - val_loss: 0.7523 - learning_rate: 1.0000e-04\n",
      "Epoch 42/100\n",
      "\u001b[1m409/409\u001b[0m \u001b[32m━━━━━━━━━━━━━━━━━━━━\u001b[0m\u001b[37m\u001b[0m \u001b[1m2s\u001b[0m 4ms/step - accuracy: 0.8502 - loss: 0.4965 - val_accuracy: 0.8066 - val_loss: 0.7530 - learning_rate: 1.0000e-04\n",
      "Epoch 43/100\n",
      "\u001b[1m409/409\u001b[0m \u001b[32m━━━━━━━━━━━━━━━━━━━━\u001b[0m\u001b[37m\u001b[0m \u001b[1m1s\u001b[0m 4ms/step - accuracy: 0.8544 - loss: 0.4980 - val_accuracy: 0.8035 - val_loss: 0.7318 - learning_rate: 1.0000e-04\n",
      "Epoch 44/100\n",
      "\u001b[1m409/409\u001b[0m \u001b[32m━━━━━━━━━━━━━━━━━━━━\u001b[0m\u001b[37m\u001b[0m \u001b[1m1s\u001b[0m 4ms/step - accuracy: 0.8532 - loss: 0.4902 - val_accuracy: 0.7806 - val_loss: 0.7911 - learning_rate: 1.0000e-04\n",
      "Epoch 45/100\n",
      "\u001b[1m409/409\u001b[0m \u001b[32m━━━━━━━━━━━━━━━━━━━━\u001b[0m\u001b[37m\u001b[0m \u001b[1m2s\u001b[0m 4ms/step - accuracy: 0.8505 - loss: 0.4918 - val_accuracy: 0.8066 - val_loss: 0.7486 - learning_rate: 1.0000e-04\n",
      "Epoch 46/100\n",
      "\u001b[1m409/409\u001b[0m \u001b[32m━━━━━━━━━━━━━━━━━━━━\u001b[0m\u001b[37m\u001b[0m \u001b[1m1s\u001b[0m 4ms/step - accuracy: 0.8597 - loss: 0.4832 - val_accuracy: 0.8002 - val_loss: 0.7895 - learning_rate: 1.0000e-04\n",
      "Epoch 47/100\n",
      "\u001b[1m409/409\u001b[0m \u001b[32m━━━━━━━━━━━━━━━━━━━━\u001b[0m\u001b[37m\u001b[0m \u001b[1m1s\u001b[0m 4ms/step - accuracy: 0.8535 - loss: 0.4850 - val_accuracy: 0.7950 - val_loss: 0.7506 - learning_rate: 1.0000e-04\n",
      "Epoch 48/100\n",
      "\u001b[1m402/409\u001b[0m \u001b[32m━━━━━━━━━━━━━━━━━━━\u001b[0m\u001b[37m━\u001b[0m \u001b[1m0s\u001b[0m 3ms/step - accuracy: 0.8560 - loss: 0.4900\n",
      "Epoch 48: ReduceLROnPlateau reducing learning rate to 1.9999999494757503e-05.\n",
      "\u001b[1m409/409\u001b[0m \u001b[32m━━━━━━━━━━━━━━━━━━━━\u001b[0m\u001b[37m\u001b[0m \u001b[1m2s\u001b[0m 4ms/step - accuracy: 0.8559 - loss: 0.4902 - val_accuracy: 0.8109 - val_loss: 0.7363 - learning_rate: 1.0000e-04\n",
      "Epoch 48: early stopping\n",
      "Restoring model weights from the end of the best epoch: 43.\n"
     ]
    }
   ],
   "source": [
    "# 7. Training with Essential Callbacks Only\n",
    "callbacks = [\n",
    "    EarlyStopping(\n",
    "        monitor='val_loss',\n",
    "        patience=5,\n",
    "        restore_best_weights=True,\n",
    "        verbose=1\n",
    "    ),\n",
    "    ReduceLROnPlateau(\n",
    "        monitor='val_loss',\n",
    "        factor=0.2,\n",
    "        patience=5,\n",
    "        verbose=1\n",
    "    )\n",
    "]\n",
    "\n",
    "history = model.fit(\n",
    "    X_train_features, y_train,\n",
    "    validation_data=(X_test_features, y_test),\n",
    "    epochs=EPOCHS,\n",
    "    batch_size=BATCH_SIZE,\n",
    "    class_weight=class_weights,\n",
    "    callbacks=callbacks,\n",
    "    verbose=1\n",
    ")"
   ]
  },
  {
   "cell_type": "code",
   "execution_count": 8,
   "id": "47a91c64",
   "metadata": {
    "execution": {
     "iopub.execute_input": "2025-02-18T22:01:01.083864Z",
     "iopub.status.busy": "2025-02-18T22:01:01.083596Z",
     "iopub.status.idle": "2025-02-18T22:01:02.032343Z",
     "shell.execute_reply": "2025-02-18T22:01:02.031562Z"
    },
    "papermill": {
     "duration": 1.013517,
     "end_time": "2025-02-18T22:01:02.033840",
     "exception": false,
     "start_time": "2025-02-18T22:01:01.020323",
     "status": "completed"
    },
    "tags": []
   },
   "outputs": [
    {
     "name": "stdout",
     "output_type": "stream",
     "text": [
      "\u001b[1m103/103\u001b[0m \u001b[32m━━━━━━━━━━━━━━━━━━━━\u001b[0m\u001b[37m\u001b[0m \u001b[1m0s\u001b[0m 3ms/step\n",
      "\n",
      "Classification Report:\n",
      "              precision    recall  f1-score   support\n",
      "\n",
      "      Eczema       0.89      0.76      0.82      1866\n",
      "        ACNE       0.96      0.88      0.91       640\n",
      "   Psoriasis       0.59      0.84      0.70       762\n",
      "\n",
      "    accuracy                           0.80      3268\n",
      "   macro avg       0.81      0.83      0.81      3268\n",
      "weighted avg       0.83      0.80      0.81      3268\n",
      "\n"
     ]
    },
    {
     "data": {
      "image/png": "[encoded data removed]",
      "text/plain": [
       "<Figure size 800x600 with 2 Axes>"
      ]
     },
     "metadata": {},
     "output_type": "display_data"
    }
   ],
   "source": [
    "# 8. Post-Training Evaluation\n",
    "y_pred = np.argmax(model.predict(X_test_features), axis=1)\n",
    "\n",
    "print(\"\\nClassification Report:\")\n",
    "print(classification_report(y_test, y_pred, target_names=CLASS_NAMES))\n",
    "\n",
    "plt.figure(figsize=(8,6))\n",
    "sns.heatmap(confusion_matrix(y_test, y_pred), \n",
    "            annot=True, fmt='d',\n",
    "            xticklabels=CLASS_NAMES,\n",
    "            yticklabels=CLASS_NAMES)\n",
    "plt.title('Confusion Matrix')\n",
    "plt.xlabel('Predicted')\n",
    "plt.ylabel('True')\n",
    "plt.show()\n"
   ]
  },
  {
   "cell_type": "code",
   "execution_count": 9,
   "id": "19853f2c",
   "metadata": {
    "execution": {
     "iopub.execute_input": "2025-02-18T22:01:02.169933Z",
     "iopub.status.busy": "2025-02-18T22:01:02.169612Z",
     "iopub.status.idle": "2025-02-18T22:01:02.304272Z",
     "shell.execute_reply": "2025-02-18T22:01:02.303360Z"
    },
    "papermill": {
     "duration": 0.205228,
     "end_time": "2025-02-18T22:01:02.305677",
     "exception": false,
     "start_time": "2025-02-18T22:01:02.100449",
     "status": "completed"
    },
    "tags": []
   },
   "outputs": [
    {
     "name": "stdout",
     "output_type": "stream",
     "text": [
      "Model saved successfully!\n"
     ]
    }
   ],
   "source": [
    "# 9. Save Model\n",
    "model.save('skin_disease_classifier_v2.h5')\n",
    "print(\"Model saved successfully!\")"
   ]
  },
  {
   "cell_type": "code",
   "execution_count": 10,
   "id": "5c5d7d2a",
   "metadata": {
    "execution": {
     "iopub.execute_input": "2025-02-18T22:01:02.436089Z",
     "iopub.status.busy": "2025-02-18T22:01:02.435829Z",
     "iopub.status.idle": "2025-02-18T22:01:02.440240Z",
     "shell.execute_reply": "2025-02-18T22:01:02.439598Z"
    },
    "papermill": {
     "duration": 0.069438,
     "end_time": "2025-02-18T22:01:02.441428",
     "exception": false,
     "start_time": "2025-02-18T22:01:02.371990",
     "status": "completed"
    },
    "tags": []
   },
   "outputs": [
    {
     "data": {
      "text/plain": [
       "'/kaggle/working/skin_disease_classifier_v2.h5'"
      ]
     },
     "execution_count": 10,
     "metadata": {},
     "output_type": "execute_result"
    }
   ],
   "source": [
    "import shutil\n",
    "shutil.move('skin_disease_classifier_v2.h5', '/kaggle/working/skin_disease_classifier_v2.h5')\n"
   ]
  },
  {
   "cell_type": "code",
   "execution_count": 11,
   "id": "9c16d549",
   "metadata": {
    "execution": {
     "iopub.execute_input": "2025-02-18T22:01:02.610103Z",
     "iopub.status.busy": "2025-02-18T22:01:02.609822Z",
     "iopub.status.idle": "2025-02-18T22:01:04.484231Z",
     "shell.execute_reply": "2025-02-18T22:01:04.483286Z"
    },
    "papermill": {
     "duration": 1.980759,
     "end_time": "2025-02-18T22:01:04.485613",
     "exception": false,
     "start_time": "2025-02-18T22:01:02.504854",
     "status": "completed"
    },
    "tags": []
   },
   "outputs": [
    {
     "name": "stdout",
     "output_type": "stream",
     "text": [
      "Test Accuracy: 80.35%\n",
      "Test Loss: 0.7318\n",
      "\u001b[1m103/103\u001b[0m \u001b[32m━━━━━━━━━━━━━━━━━━━━\u001b[0m\u001b[37m\u001b[0m \u001b[1m0s\u001b[0m 2ms/step\n",
      "\n",
      "Manual Accuracy Check: 80.35%\n"
     ]
    }
   ],
   "source": [
    "# Load the saved model (if not already loaded)\n",
    "from tensorflow.keras.models import load_model\n",
    "import numpy as np\n",
    "\n",
    "# 1. Load the trained model\n",
    "model = load_model('skin_disease_classifier_v2.h5')\n",
    "\n",
    "# 2. Evaluate on test data\n",
    "test_loss, test_accuracy = model.evaluate(X_test_features, y_test, verbose=0)\n",
    "\n",
    "# 3. Print results\n",
    "print(f\"Test Accuracy: {test_accuracy * 100:.2f}%\")\n",
    "print(f\"Test Loss: {test_loss:.4f}\")\n",
    "\n",
    "# Optional: Detailed prediction analysis\n",
    "from sklearn.metrics import accuracy_score\n",
    "\n",
    "# Make predictions\n",
    "y_pred = model.predict(X_test_features)\n",
    "y_pred_classes = np.argmax(y_pred, axis=1)\n",
    "\n",
    "# Calculate manual accuracy (should match evaluate() result)\n",
    "manual_accuracy = accuracy_score(y_test, y_pred_classes)\n",
    "print(f\"\\nManual Accuracy Check: {manual_accuracy * 100:.2f}%\")\n",
    "\n",
    "# Confirmation check\n",
    "assert np.isclose(test_accuracy, manual_accuracy), \"Accuracy values should match!\""
   ]
  }
 ],
 "metadata": {
  "kaggle": {
   "accelerator": "nvidiaTeslaT4",
   "dataSources": [
    {
     "datasetId": 6641082,
     "sourceId": 10714327,
     "sourceType": "datasetVersion"
    }
   ],
   "dockerImageVersionId": 30887,
   "isGpuEnabled": true,
   "isInternetEnabled": true,
   "language": "python",
   "sourceType": "notebook"
  },
  "kernelspec": {
   "display_name": "Python 3",
   "language": "python",
   "name": "python3"
  },
  "language_info": {
   "codemirror_mode": {
    "name": "ipython",
    "version": 3
   },
   "file_extension": ".py",
   "mimetype": "text/x-python",
   "name": "python",
   "nbconvert_exporter": "python",
   "pygments_lexer": "ipython3",
   "version": "3.10.12"
  },
  "papermill": {
   "default_parameters": {},
   "duration": 367.02207,
   "end_time": "2025-02-18T22:01:07.696636",
   "environment_variables": {},
   "exception": null,
   "input_path": "__notebook__.ipynb",
   "output_path": "__notebook__.ipynb",
   "parameters": {},
   "start_time": "2025-02-18T21:55:00.674566",
   "version": "2.6.0"
  }
 },
 "nbformat": 4,
 "nbformat_minor": 5
}
